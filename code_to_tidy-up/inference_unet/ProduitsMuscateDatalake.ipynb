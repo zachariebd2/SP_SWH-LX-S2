{
 "cells": [
  {
   "cell_type": "code",
   "execution_count": 1,
   "id": "a3910fb0-85bf-4799-87e7-cd012a1f45ef",
   "metadata": {
    "tags": []
   },
   "outputs": [],
   "source": [
    "import os\n",
    "import boto3\n",
    "from botocore.exceptions import ClientError\n",
    "import logging\n",
    "from assumerole import assumerole\n",
    "import zipfile\n",
    "import glob\n",
    "import json\n",
    "import subprocess\n",
    "import s3fs"
   ]
  },
  {
   "cell_type": "code",
   "execution_count": 2,
   "id": "cb634311-5fc3-4f3b-b7bf-bc1573651b10",
   "metadata": {
    "tags": []
   },
   "outputs": [],
   "source": [
    "ENDPOINT_URL=\"https://s3.datalake.cnes.fr\"\n",
    "credentials = assumerole.getCredentials(\"arn:aws:iam::732885638740:role/public-read-only-OT\", Duration=7200)"
   ]
  },
  {
   "cell_type": "code",
   "execution_count": 3,
   "id": "06eff066-6411-4357-8539-60810c6116d2",
   "metadata": {
    "tags": []
   },
   "outputs": [],
   "source": [
    "s3_client = boto3.client(\"s3\", \n",
    "                      aws_access_key_id=credentials['AWS_ACCESS_KEY_ID'],\n",
    "                      aws_secret_access_key=credentials['AWS_SECRET_ACCESS_KEY'],\n",
    "                      aws_session_token=credentials['AWS_SESSION_TOKEN'],\n",
    "                      region_name=\"us-east-1\",\n",
    "                      endpoint_url=ENDPOINT_URL\n",
    ")"
   ]
  },
  {
   "cell_type": "code",
   "execution_count": 4,
   "id": "0264302f-dad2-4fc5-8c12-3df22f502867",
   "metadata": {
    "tags": []
   },
   "outputs": [
    {
     "name": "stdout",
     "output_type": "stream",
     "text": [
      "Existing buckets:\n",
      "  flatsim\n",
      "  hydroweb\n",
      "  muscate\n",
      "  postel\n",
      "  sentinel1-grd\n",
      "  sentinel1-ocn\n",
      "  sentinel1-slc\n",
      "  sentinel2-l1b\n",
      "  sentinel2-l1c\n",
      "  sentinel2-l2a-grs-hys2\n",
      "  sentinel2-l2a-peps\n",
      "  sentinel2-l2b-obs2co-hys2\n",
      "  sentinel2-l2b-snow-hys2\n",
      "  sentinel2-l2b-sw-single-hys2\n",
      "  sentinel2-l3b-snow-hys2\n",
      "  sentinel2-l3b-sw-monthly-hys2\n",
      "  sentinel2-l3b-sw-yearly-hys2\n",
      "  sentinel3-sral\n",
      "  sentinel6-l1a\n",
      "  swh-l1a\n",
      "  take5\n"
     ]
    }
   ],
   "source": [
    "response = s3_client.list_buckets()\n",
    "\n",
    "# On regarde les buckets existants\n",
    "print('Existing buckets:')\n",
    "for bucket in response['Buckets']:\n",
    "    print(f'  {bucket[\"Name\"]}')"
   ]
  },
  {
   "cell_type": "code",
   "execution_count": 6,
   "id": "6b4762f7-4477-43db-bd30-5c0765f83b2f",
   "metadata": {
    "tags": []
   },
   "outputs": [
    {
     "name": "stdout",
     "output_type": "stream",
     "text": [
      "SPOTWORLDHERITAGE/1986/03/18/SPOT1-HRV1-XS_19860318-202152-178_L1C_499-383-0_D_V1-0/SPOT1-HRV1-XS_19860318-202152-178_L1C_499-383-0_D_V1-0.zip\n",
      "SPOTWORLDHERITAGE/1986/03/18/SPOT1-HRV1-XS_19860318-202200-693_L1C_499-384-0_D_V1-0/SPOT1-HRV1-XS_19860318-202200-693_L1C_499-384-0_D_V1-0.zip\n",
      "SPOTWORLDHERITAGE/1986/03/18/SPOT1-HRV1-XS_19860318-202209-206_L1C_499-385-0_D_V1-0/SPOT1-HRV1-XS_19860318-202209-206_L1C_499-385-0_D_V1-0.zip\n",
      "SPOTWORLDHERITAGE/1986/03/18/SPOT1-HRV2-XS_19860318-202150-767_L1C_500-383-0_D_V1-0/SPOT1-HRV2-XS_19860318-202150-767_L1C_500-383-0_D_V1-0.zip\n",
      "SPOTWORLDHERITAGE/1986/03/18/SPOT1-HRV2-XS_19860318-202159-276_L1C_500-384-0_D_V1-0/SPOT1-HRV2-XS_19860318-202159-276_L1C_500-384-0_D_V1-0.zip\n",
      "SPOTWORLDHERITAGE/1986/03/18/SPOT1-HRV2-XS_19860318-202207-786_L1C_500-385-0_D_V1-0/SPOT1-HRV2-XS_19860318-202207-786_L1C_500-385-0_D_V1-0.zip\n",
      "SPOTWORLDHERITAGE/1986/03/27/SPOT1-HRV1-XS_19860327-085159-876_L1C_111-334-0_D_V1-0/SPOT1-HRV1-XS_19860327-085159-876_L1C_111-334-0_D_V1-0.zip\n",
      "SPOTWORLDHERITAGE/1986/03/27/SPOT1-HRV1-XS_19860327-085208-386_L1C_111-335-0_D_V1-0/SPOT1-HRV1-XS_19860327-085208-386_L1C_111-335-0_D_V1-0.zip\n",
      "SPOTWORLDHERITAGE/1986/03/27/SPOT1-HRV1-XS_19860327-085233-911_L1C_111-338-0_D_V1-0/SPOT1-HRV1-XS_19860327-085233-911_L1C_111-338-0_D_V1-0.zip\n",
      "SPOTWORLDHERITAGE/1986/03/27/SPOT1-HRV1-XS_19860327-085250-931_L1C_111-340-0_D_V1-0/SPOT1-HRV1-XS_19860327-085250-931_L1C_111-340-0_D_V1-0.zip\n"
     ]
    }
   ],
   "source": [
    "o = s3_client.list_objects(Bucket=\"muscate\", Prefix=\"SPOTWORLDHERITAGE\", MaxKeys=10).get('Contents')\n",
    "for i in range(10):\n",
    "    k = o[i].get('Key')\n",
    "    print(k)\n",
    "    #s3_client.download_file(Bucket='muscate', Key=k, Filename='out/'+k.split('/')[-1])\n"
   ]
  },
  {
   "cell_type": "code",
   "execution_count": null,
   "id": "f84f1b25-033a-4c0e-b3df-c6cb720fa2d8",
   "metadata": {
    "tags": []
   },
   "outputs": [],
   "source": [
    "s3_client.list_objects(Bucket=\"muscate\", Prefix=\"SPOTWORLDHERITAGE\", MaxKeys=10)"
   ]
  },
  {
   "cell_type": "code",
   "execution_count": 3,
   "id": "4108f062-60c6-462c-8f57-a6cac22f4e24",
   "metadata": {
    "tags": []
   },
   "outputs": [
    {
     "ename": "NameError",
     "evalue": "name 's3_client' is not defined",
     "output_type": "error",
     "traceback": [
      "\u001b[0;31m---------------------------------------------------------------------------\u001b[0m",
      "\u001b[0;31mNameError\u001b[0m                                 Traceback (most recent call last)",
      "Cell \u001b[0;32mIn[3], line 1\u001b[0m\n\u001b[0;32m----> 1\u001b[0m o \u001b[38;5;241m=\u001b[39m \u001b[43ms3_client\u001b[49m\u001b[38;5;241m.\u001b[39mlist_objects(Bucket\u001b[38;5;241m=\u001b[39m\u001b[38;5;124m\"\u001b[39m\u001b[38;5;124mmuscate\u001b[39m\u001b[38;5;124m\"\u001b[39m, Prefix\u001b[38;5;241m=\u001b[39m\u001b[38;5;124m\"\u001b[39m\u001b[38;5;124mSnow/2018/09/01/\u001b[39m\u001b[38;5;124m\"\u001b[39m)\n",
      "\u001b[0;31mNameError\u001b[0m: name 's3_client' is not defined"
     ]
    }
   ],
   "source": [
    "o = s3_client.list_objects(Bucket=\"muscate\", Prefix=\"Snow/2018/09/01/\")"
   ]
  },
  {
   "cell_type": "code",
   "execution_count": null,
   "id": "a75fcbb9-6200-401b-9f92-46442be9604e",
   "metadata": {
    "tags": []
   },
   "outputs": [],
   "source": [
    "k = o['Contents'][0]['Key']\n",
    "k"
   ]
  },
  {
   "cell_type": "code",
   "execution_count": null,
   "id": "b63b6414-1c13-47ac-867d-a0e697307a5c",
   "metadata": {
    "tags": []
   },
   "outputs": [],
   "source": [
    "s3_client.download_file(Bucket='muscate', Key=k, Filename=k.split('/')[-1])"
   ]
  },
  {
   "cell_type": "code",
   "execution_count": 7,
   "id": "d389f0cb-b4b4-498d-9460-0d88d48bed57",
   "metadata": {
    "tags": []
   },
   "outputs": [],
   "source": [
    "s3 = s3fs.S3FileSystem(\n",
    "      client_kwargs={\n",
    "                      'aws_access_key_id': credentials['AWS_ACCESS_KEY_ID'],\n",
    "                      'aws_secret_access_key': credentials['AWS_SECRET_ACCESS_KEY'],\n",
    "                      'aws_session_token': credentials['AWS_SESSION_TOKEN'],\n",
    "         'endpoint_url': 'https://s3.datalake.cnes.fr'\n",
    "      }\n",
    "   )"
   ]
  },
  {
   "cell_type": "code",
   "execution_count": null,
   "id": "babfa730-bfed-442d-9dbd-7e6e1405aea1",
   "metadata": {
    "tags": []
   },
   "outputs": [],
   "source": [
    "s3.ls(\"swh-l1a/S5\")"
   ]
  },
  {
   "cell_type": "code",
   "execution_count": null,
   "id": "4fc82ae4-ca96-4994-94c1-b39aaace1dc3",
   "metadata": {
    "tags": []
   },
   "outputs": [],
   "source": [
    "s3.glob(\"muscate/SPOTWORLDHERITAGE/1997/03/**/*.zip\")"
   ]
  },
  {
   "cell_type": "code",
   "execution_count": 10,
   "id": "1d118943-4dd5-4d58-8a73-46b47aa79347",
   "metadata": {
    "tags": []
   },
   "outputs": [
    {
     "data": {
      "text/plain": [
       "[None]"
      ]
     },
     "execution_count": 10,
     "metadata": {},
     "output_type": "execute_result"
    }
   ],
   "source": [
    "swh = \"muscate/SPOTWORLDHERITAGE/2000/02/21/SPOT1-HRV2-XS_20000221-102923-544_L1C_049-256-0_D_V1-0/SPOT1-HRV2-XS_20000221-102923-544_L1C_049-256-0_D_V1-0.zip\"\n",
    "\n",
    "s3.get(swh, \"/home/ad/barrouz/zacharie/TIMESERIES_PROJECT/SWH_VISUAL_TEST/INPUTS/ALP\", recursive=True)"
   ]
  },
  {
   "cell_type": "code",
   "execution_count": null,
   "id": "21e6881d-2e9f-463d-b39f-a79fa02327d2",
   "metadata": {},
   "outputs": [],
   "source": [
    "!pwd"
   ]
  },
  {
   "cell_type": "code",
   "execution_count": null,
   "id": "6486ca6e-0682-4562-99c9-332094778a41",
   "metadata": {},
   "outputs": [],
   "source": []
  }
 ],
 "metadata": {
  "kernelspec": {
   "display_name": "s3-env",
   "language": "python",
   "name": "s3-env"
  },
  "language_info": {
   "codemirror_mode": {
    "name": "ipython",
    "version": 3
   },
   "file_extension": ".py",
   "mimetype": "text/x-python",
   "name": "python",
   "nbconvert_exporter": "python",
   "pygments_lexer": "ipython3",
   "version": "3.10.9"
  }
 },
 "nbformat": 4,
 "nbformat_minor": 5
}
