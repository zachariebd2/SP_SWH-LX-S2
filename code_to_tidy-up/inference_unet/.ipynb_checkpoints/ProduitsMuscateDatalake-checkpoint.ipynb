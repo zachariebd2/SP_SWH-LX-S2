{
 "cells": [
  {
   "cell_type": "code",
   "execution_count": 1,
   "id": "a3910fb0-85bf-4799-87e7-cd012a1f45ef",
   "metadata": {
    "tags": []
   },
   "outputs": [],
   "source": [
    "import os\n",
    "import boto3\n",
    "from botocore.exceptions import ClientError\n",
    "import logging\n",
    "from assumerole import assumerole\n",
    "import zipfile\n",
    "import glob\n",
    "import json\n",
    "import subprocess\n",
    "import s3fs"
   ]
  },
  {
   "cell_type": "code",
   "execution_count": 2,
   "id": "cb634311-5fc3-4f3b-b7bf-bc1573651b10",
   "metadata": {
    "tags": []
   },
   "outputs": [],
   "source": [
    "ENDPOINT_URL=\"https://s3.datalake.cnes.fr\"\n",
    "credentials = assumerole.getCredentials(\"arn:aws:iam::732885638740:role/public-read-only-OT\", Duration=7200)"
   ]
  },
  {
   "cell_type": "code",
   "execution_count": 3,
   "id": "06eff066-6411-4357-8539-60810c6116d2",
   "metadata": {
    "tags": []
   },
   "outputs": [],
   "source": [
    "s3_client = boto3.client(\"s3\", \n",
    "                      aws_access_key_id=credentials['AWS_ACCESS_KEY_ID'],\n",
    "                      aws_secret_access_key=credentials['AWS_SECRET_ACCESS_KEY'],\n",
    "                      aws_session_token=credentials['AWS_SESSION_TOKEN'],\n",
    "                      region_name=\"us-east-1\",\n",
    "                      endpoint_url=ENDPOINT_URL\n",
    ")"
   ]
  },
  {
   "cell_type": "code",
   "execution_count": 4,
   "id": "0264302f-dad2-4fc5-8c12-3df22f502867",
   "metadata": {
    "tags": []
   },
   "outputs": [
    {
     "name": "stdout",
     "output_type": "stream",
     "text": [
      "Existing buckets:\n",
      "  flatsim\n",
      "  hydroweb\n",
      "  muscate\n",
      "  postel\n",
      "  sentinel1-grd\n",
      "  sentinel1-ocn\n",
      "  sentinel1-slc\n",
      "  sentinel2-l1b\n",
      "  sentinel2-l1c\n",
      "  sentinel2-l2a-grs-hys2\n",
      "  sentinel2-l2a-peps\n",
      "  sentinel2-l2b-obs2co-hys2\n",
      "  sentinel2-l2b-snow-hys2\n",
      "  sentinel2-l2b-sw-single-hys2\n",
      "  sentinel2-l3b-snow-hys2\n",
      "  sentinel2-l3b-sw-monthly-hys2\n",
      "  sentinel2-l3b-sw-yearly-hys2\n",
      "  sentinel3-sral\n",
      "  sentinel6-l1a\n",
      "  swh-l1a\n",
      "  take5\n"
     ]
    }
   ],
   "source": [
    "response = s3_client.list_buckets()\n",
    "\n",
    "# On regarde les buckets existants\n",
    "print('Existing buckets:')\n",
    "for bucket in response['Buckets']:\n",
    "    print(f'  {bucket[\"Name\"]}')"
   ]
  },
  {
   "cell_type": "code",
   "execution_count": 17,
   "id": "6b4762f7-4477-43db-bd30-5c0765f83b2f",
   "metadata": {
    "tags": []
   },
   "outputs": [
    {
     "name": "stdout",
     "output_type": "stream",
     "text": [
      "SPOTWORLDHERITAGE/1986/03/18/SPOT1-HRV1-XS_19860318-202152-178_L1C_499-383-0_D_V1-0/SPOT1-HRV1-XS_19860318-202152-178_L1C_499-383-0_D_V1-0.zip\n",
      "SPOTWORLDHERITAGE/1986/03/18/SPOT1-HRV1-XS_19860318-202200-693_L1C_499-384-0_D_V1-0/SPOT1-HRV1-XS_19860318-202200-693_L1C_499-384-0_D_V1-0.zip\n",
      "SPOTWORLDHERITAGE/1986/03/18/SPOT1-HRV1-XS_19860318-202209-206_L1C_499-385-0_D_V1-0/SPOT1-HRV1-XS_19860318-202209-206_L1C_499-385-0_D_V1-0.zip\n",
      "SPOTWORLDHERITAGE/1986/03/18/SPOT1-HRV2-XS_19860318-202150-767_L1C_500-383-0_D_V1-0/SPOT1-HRV2-XS_19860318-202150-767_L1C_500-383-0_D_V1-0.zip\n",
      "SPOTWORLDHERITAGE/1986/03/18/SPOT1-HRV2-XS_19860318-202159-276_L1C_500-384-0_D_V1-0/SPOT1-HRV2-XS_19860318-202159-276_L1C_500-384-0_D_V1-0.zip\n",
      "SPOTWORLDHERITAGE/1986/03/18/SPOT1-HRV2-XS_19860318-202207-786_L1C_500-385-0_D_V1-0/SPOT1-HRV2-XS_19860318-202207-786_L1C_500-385-0_D_V1-0.zip\n",
      "SPOTWORLDHERITAGE/1986/03/27/SPOT1-HRV1-XS_19860327-085159-876_L1C_111-334-0_D_V1-0/SPOT1-HRV1-XS_19860327-085159-876_L1C_111-334-0_D_V1-0.zip\n",
      "SPOTWORLDHERITAGE/1986/03/27/SPOT1-HRV1-XS_19860327-085208-386_L1C_111-335-0_D_V1-0/SPOT1-HRV1-XS_19860327-085208-386_L1C_111-335-0_D_V1-0.zip\n",
      "SPOTWORLDHERITAGE/1986/03/27/SPOT1-HRV1-XS_19860327-085233-911_L1C_111-338-0_D_V1-0/SPOT1-HRV1-XS_19860327-085233-911_L1C_111-338-0_D_V1-0.zip\n",
      "SPOTWORLDHERITAGE/1986/03/27/SPOT1-HRV1-XS_19860327-085250-931_L1C_111-340-0_D_V1-0/SPOT1-HRV1-XS_19860327-085250-931_L1C_111-340-0_D_V1-0.zip\n"
     ]
    }
   ],
   "source": [
    "o = s3_client.list_objects(Bucket=\"muscate\", Prefix=\"SPOTWORLDHERITAGE\", MaxKeys=10).get('Contents')\n",
    "for i in range(10):\n",
    "    k = o[i].get('Key')\n",
    "    print(k)\n",
    "    s3_client.download_file(Bucket='muscate', Key=k, Filename='out/'+k.split('/')[-1])\n"
   ]
  },
  {
   "cell_type": "code",
   "execution_count": 10,
   "id": "f84f1b25-033a-4c0e-b3df-c6cb720fa2d8",
   "metadata": {
    "tags": []
   },
   "outputs": [
    {
     "data": {
      "text/plain": [
       "{'ResponseMetadata': {'RequestId': 'fccf66402f4790c449c7',\n",
       "  'HostId': 'fccf66402f4790c449c7',\n",
       "  'HTTPStatusCode': 200,\n",
       "  'HTTPHeaders': {'date': 'Mon, 27 Nov 2023 14:18:33 GMT',\n",
       "   'content-type': 'application/xml',\n",
       "   'transfer-encoding': 'chunked',\n",
       "   'x-amz-id-2': 'fccf66402f4790c449c7',\n",
       "   'x-amz-request-id': 'fccf66402f4790c449c7',\n",
       "   'strict-transport-security': 'max-age=15724800; includeSubDomains'},\n",
       "  'RetryAttempts': 0},\n",
       " 'IsTruncated': False,\n",
       " 'Marker': '',\n",
       " 'Contents': [{'Key': 'Snow/2018/09/01/MULTISAT_20180901-000000-000_L3B-SNOW_T18TVS_D_V1-0/MULTISAT_20180901-000000-000_L3B-SNOW_T18TVS_D_V1-0.zip',\n",
       "   'LastModified': datetime.datetime(2023, 3, 14, 18, 28, 15, 25000, tzinfo=tzlocal()),\n",
       "   'ETag': '\"b5c6b088708dc25436e88eb93f3dbbe0-3\"',\n",
       "   'Size': 39517544,\n",
       "   'StorageClass': 'STANDARD',\n",
       "   'Owner': {'DisplayName': 'OT',\n",
       "    'ID': '1c0932ec4953bd6ffa99578ccfb85cda906465d010d1e9071295d78f400e5610'}}],\n",
       " 'Name': 'muscate',\n",
       " 'Prefix': 'Snow%2F2018%2F09%2F01%2FMULTISAT_20180901-000000-000_L3B-SNOW_T18TVS',\n",
       " 'MaxKeys': 1000,\n",
       " 'EncodingType': 'url'}"
      ]
     },
     "execution_count": 10,
     "metadata": {},
     "output_type": "execute_result"
    }
   ],
   "source": [
    "s3_client.list_objects(Bucket=\"muscate\", Prefix=\"Snow/2018/09/01/MULTISAT_20180901-000000-000_L3B-SNOW_T18TVS\")"
   ]
  },
  {
   "cell_type": "code",
   "execution_count": 11,
   "id": "4108f062-60c6-462c-8f57-a6cac22f4e24",
   "metadata": {
    "tags": []
   },
   "outputs": [],
   "source": [
    "o = s3_client.list_objects(Bucket=\"muscate\", Prefix=\"Snow/2018/09/01/\")"
   ]
  },
  {
   "cell_type": "code",
   "execution_count": 12,
   "id": "a75fcbb9-6200-401b-9f92-46442be9604e",
   "metadata": {
    "tags": []
   },
   "outputs": [
    {
     "data": {
      "text/plain": [
       "'Snow/2018/09/01/LANDSAT8-OLITIRS-XS_20180901-105420-380_L2B-SNOW_T30TVN_D_V1-7/LANDSAT8-OLITIRS-XS_20180901-105420-380_L2B-SNOW_T30TVN_D_V1-7.zip'"
      ]
     },
     "execution_count": 12,
     "metadata": {},
     "output_type": "execute_result"
    }
   ],
   "source": [
    "k = o['Contents'][0]['Key']\n",
    "k"
   ]
  },
  {
   "cell_type": "code",
   "execution_count": 15,
   "id": "b63b6414-1c13-47ac-867d-a0e697307a5c",
   "metadata": {
    "tags": []
   },
   "outputs": [],
   "source": [
    "s3_client.download_file(Bucket='muscate', Key=k, Filename=k.split('/')[-1])"
   ]
  },
  {
   "cell_type": "code",
   "execution_count": 19,
   "id": "d389f0cb-b4b4-498d-9460-0d88d48bed57",
   "metadata": {
    "tags": []
   },
   "outputs": [],
   "source": [
    "s3 = s3fs.S3FileSystem(\n",
    "      client_kwargs={\n",
    "                      'aws_access_key_id': credentials['AWS_ACCESS_KEY_ID'],\n",
    "                      'aws_secret_access_key': credentials['AWS_SECRET_ACCESS_KEY'],\n",
    "                      'aws_session_token': credentials['AWS_SESSION_TOKEN'],\n",
    "         'endpoint_url': 'https://s3.datalake.cnes.fr'\n",
    "      }\n",
    "   )"
   ]
  },
  {
   "cell_type": "code",
   "execution_count": 20,
   "id": "babfa730-bfed-442d-9dbd-7e6e1405aea1",
   "metadata": {
    "tags": []
   },
   "outputs": [
    {
     "data": {
      "text/plain": [
       "['swh-l1a/S5/2002',\n",
       " 'swh-l1a/S5/2003',\n",
       " 'swh-l1a/S5/2004',\n",
       " 'swh-l1a/S5/2005',\n",
       " 'swh-l1a/S5/2006',\n",
       " 'swh-l1a/S5/2007',\n",
       " 'swh-l1a/S5/2008',\n",
       " 'swh-l1a/S5/2009',\n",
       " 'swh-l1a/S5/2010',\n",
       " 'swh-l1a/S5/2011',\n",
       " 'swh-l1a/S5/2012',\n",
       " 'swh-l1a/S5/2013',\n",
       " 'swh-l1a/S5/2014',\n",
       " 'swh-l1a/S5/2015']"
      ]
     },
     "execution_count": 20,
     "metadata": {},
     "output_type": "execute_result"
    }
   ],
   "source": [
    "s3.ls(\"swh-l1a/S5\")"
   ]
  },
  {
   "cell_type": "code",
   "execution_count": 33,
   "id": "4fc82ae4-ca96-4994-94c1-b39aaace1dc3",
   "metadata": {
    "tags": []
   },
   "outputs": [
    {
     "data": {
      "text/plain": [
       "['muscate/SPOTWORLDHERITAGE/1986/03/18',\n",
       " 'muscate/SPOTWORLDHERITAGE/1986/03/27',\n",
       " 'muscate/SPOTWORLDHERITAGE/1986/03/29',\n",
       " 'muscate/SPOTWORLDHERITAGE/1986/03/30',\n",
       " 'muscate/SPOTWORLDHERITAGE/1986/03/31']"
      ]
     },
     "execution_count": 33,
     "metadata": {},
     "output_type": "execute_result"
    }
   ],
   "source": [
    "s3.ls(\"muscate/SPOTWORLDHERITAGE/1986/03\")"
   ]
  },
  {
   "cell_type": "code",
   "execution_count": 36,
   "id": "1d118943-4dd5-4d58-8a73-46b47aa79347",
   "metadata": {
    "tags": []
   },
   "outputs": [
    {
     "data": {
      "text/plain": [
       "[None, None, None, None, None, None, None, None, None, None, None, None, None]"
      ]
     },
     "execution_count": 36,
     "metadata": {},
     "output_type": "execute_result"
    }
   ],
   "source": [
    "s3.get(\"muscate/SPOTWORLDHERITAGE/1986/03/18\", \"out\", recursive=True)"
   ]
  },
  {
   "cell_type": "code",
   "execution_count": 31,
   "id": "21e6881d-2e9f-463d-b39f-a79fa02327d2",
   "metadata": {},
   "outputs": [
    {
     "name": "stdout",
     "output_type": "stream",
     "text": [
      "/home/eh/gascoins/test_S3\n"
     ]
    }
   ],
   "source": [
    "!pwd"
   ]
  },
  {
   "cell_type": "code",
   "execution_count": null,
   "id": "6486ca6e-0682-4562-99c9-332094778a41",
   "metadata": {},
   "outputs": [],
   "source": []
  }
 ],
 "metadata": {
  "kernelspec": {
   "display_name": "s3-env",
   "language": "python",
   "name": "s3-env"
  },
  "language_info": {
   "codemirror_mode": {
    "name": "ipython",
    "version": 3
   },
   "file_extension": ".py",
   "mimetype": "text/x-python",
   "name": "python",
   "nbconvert_exporter": "python",
   "pygments_lexer": "ipython3",
   "version": "3.10.9"
  }
 },
 "nbformat": 4,
 "nbformat_minor": 5
}
