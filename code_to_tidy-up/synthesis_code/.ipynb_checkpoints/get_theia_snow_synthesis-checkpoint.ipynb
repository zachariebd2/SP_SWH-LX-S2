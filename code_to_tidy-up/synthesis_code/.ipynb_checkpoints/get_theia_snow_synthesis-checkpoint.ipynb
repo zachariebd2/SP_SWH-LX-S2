{
 "cells": [
  {
   "cell_type": "code",
   "execution_count": 2,
   "id": "a7d8e340-2700-4e30-bfcf-d47857cf66b2",
   "metadata": {
    "tags": []
   },
   "outputs": [],
   "source": [
    "import os\n",
    "import sys\n",
    "import errno\n",
    "import re\n",
    "import os.path as op\n",
    "import boto3\n",
    "from botocore.exceptions import ClientError\n",
    "import logging\n",
    "from assumerole import assumerole\n",
    "import zipfile\n",
    "import glob\n",
    "import json\n",
    "import subprocess\n",
    "import s3fs\n",
    "import shutil\n",
    "import argparse\n",
    "import tempfile"
   ]
  },
  {
   "cell_type": "code",
   "execution_count": 9,
   "id": "8b705a7a-8a0a-40b9-a1a3-fbb2cf7869d3",
   "metadata": {
    "tags": []
   },
   "outputs": [
    {
     "name": "stdout",
     "output_type": "stream",
     "text": [
      "['SENTINEL2A_20160630-105625-629_L2B-SNOW_T30TXN', 'SENTINEL2A_20151206-111905-538_L2B-SNOW_T30TXN', 'SENTINEL2A_20160730-105338-067_L2B-SNOW_T30TXN', 'SENTINEL2A_20160411-105756-432_L2B-SNOW_T30TXN', 'SENTINEL2A_20160819-105337-065_L2B-SNOW_T30TXN', 'SENTINEL2A_20160414-105723-932_L2B-SNOW_T30TXN', 'SENTINEL2A_20160723-110712-857_L2B-SNOW_T30TXN', 'SENTINEL2A_20160928-105637-665_L2B-SNOW_T30TXN', 'SENTINEL2A_20160524-110714-856_L2B-SNOW_T30TXN', 'SENTINEL2A_20160802-110307-060_L2B-SNOW_T30TXN', 'SENTINEL2A_20160214-110150-284_L2B-SNOW_T30TXN', 'SENTINEL2A_20160911-110438-472_L2B-SNOW_T30TXN', 'SENTINEL2A_20160401-105759-039_L2B-SNOW_T30TXN', 'SENTINEL2A_20160125-111611-703_L2B-SNOW_T30TXN', 'SENTINEL2A_20160918-105641-272_L2B-SNOW_T30TXN', 'SENTINEL2A_20160713-110542-192_L2B-SNOW_T30TXN', 'SENTINEL2A_20151216-111216-826_L2B-SNOW_T30TXN', 'SENTINEL2A_20160514-110529-760_L2B-SNOW_T30TXN', 'SENTINEL2A_20151223-110915-322_L2B-SNOW_T30TXN', 'SENTINEL2A_20160322-105248-343_L2B-SNOW_T30TXN', 'SENTINEL2A_20160315-110157-618_L2B-SNOW_T30TXN', 'SENTINEL2A_20160211-105810-663_L2B-SNOW_T30TXN', 'SENTINEL2A_20151226-111142-750_L2B-SNOW_T30TXN', 'SENTINEL2A_20160908-105416-359_L2B-SNOW_T30TXN', 'SENTINEL2A_20160710-105247-556_L2B-SNOW_T30TXN', 'SENTINEL2A_20160822-110529-373_L2B-SNOW_T30TXN', 'SENTINEL2A_20161001-110717-761_L2B-SNOW_T30TXN', 'SENTINEL2A_20160112-110648-877_L2B-SNOW_T30TXN', 'SENTINEL2A_20160501-105310-197_L2B-SNOW_T30TXN', 'SENTINEL2A_20160204-110240-456_L2B-SNOW_T30TXN', 'SENTINEL2A_20160613-110559-700_L2B-SNOW_T30TXN', 'SENTINEL2A_20160414-110907-448_L2B-SNOW_T30TXN', 'SENTINEL2A_20160105-111934-183_L2B-SNOW_T30TXN', 'SENTINEL2A_20160812-110701-031_L2B-SNOW_T30TXN', 'SENTINEL2A_20160623-105858-730_L2B-SNOW_T30TXN', 'SENTINEL2A_20160312-105037-460_L2B-SNOW_T30TXN', 'SENTINEL2A_20160829-105541-337_L2B-SNOW_T30TXN', 'SENTINEL2A_20160424-105755-792_L2B-SNOW_T30TXN', 'SENTINEL2A_20151203-110846-328_L2B-SNOW_T30TXN', 'SENTINEL2A_20160620-105336-061_L2B-SNOW_T30TXN', 'SENTINEL2A_20160521-105553-553_L2B-SNOW_T30TXN', 'SENTINEL2A_20160921-110634-627_L2B-SNOW_T30TXN', 'SENTINEL2A_20160703-110602-307_L2B-SNOW_T30TXN', 'SENTINEL2A_20160901-110708-860_L2B-SNOW_T30TXN', 'SENTINEL2A_20160809-105851-936_L2B-SNOW_T30TXN', 'SENTINEL2A_20160504-105917-634_L2B-SNOW_T30TXN']\n",
      "SENTINEL2A_20161008-105022-458_L2B-SNOW_T30TXN\n",
      "Archive:  /work/scratch/data/barrouz/SENTINEL2A_20161008-105022-458_L2B-SNOW_T30TXN_D_V1-0.zip\n",
      "  inflating: /home/ad/barrouz/zacharie/TIMESERIES_PROJECT/THEIA_SNOW/S2/PYR/30TXN/SENTINEL2A_20161008-105022-458_L2B-SNOW_T30TXN_D_V1-0/SENTINEL2A_20161008-105022-458_L2B-SNOW_T30TXN_D_V1-0_MTD_ALL.xml  \n",
      "  inflating: /home/ad/barrouz/zacharie/TIMESERIES_PROJECT/THEIA_SNOW/S2/PYR/30TXN/SENTINEL2A_20161008-105022-458_L2B-SNOW_T30TXN_D_V1-0/SENTINEL2A_20161008-105022-458_L2B-SNOW_T30TXN_D_V1-0_QKL_ALL.jpg  \n",
      "  inflating: /home/ad/barrouz/zacharie/TIMESERIES_PROJECT/THEIA_SNOW/S2/PYR/30TXN/SENTINEL2A_20161008-105022-458_L2B-SNOW_T30TXN_D_V1-0/SENTINEL2A_20161008-105022-458_L2B-SNOW_T30TXN_D_V1-0_CMP_R2.tif  \n",
      "  inflating: /home/ad/barrouz/zacharie/TIMESERIES_PROJECT/THEIA_SNOW/S2/PYR/30TXN/SENTINEL2A_20161008-105022-458_L2B-SNOW_T30TXN_D_V1-0/SENTINEL2A_20161008-105022-458_L2B-SNOW_T30TXN_D_V1-0_EXS_R2.tif  \n",
      "  inflating: /home/ad/barrouz/zacharie/TIMESERIES_PROJECT/THEIA_SNOW/S2/PYR/30TXN/SENTINEL2A_20161008-105022-458_L2B-SNOW_T30TXN_D_V1-0/SENTINEL2A_20161008-105022-458_L2B-SNOW_T30TXN_D_V1-0_SNW_R2.tif  \n",
      "  inflating: /home/ad/barrouz/zacharie/TIMESERIES_PROJECT/THEIA_SNOW/S2/PYR/30TXN/SENTINEL2A_20161008-105022-458_L2B-SNOW_T30TXN_D_V1-0/SENTINEL2A_20161008-105022-458_L2B-SNOW_T30TXN_D_V1-0_SNW_R2.shx  \n",
      "  inflating: /home/ad/barrouz/zacharie/TIMESERIES_PROJECT/THEIA_SNOW/S2/PYR/30TXN/SENTINEL2A_20161008-105022-458_L2B-SNOW_T30TXN_D_V1-0/SENTINEL2A_20161008-105022-458_L2B-SNOW_T30TXN_D_V1-0_SNW_R2.dbf  \n",
      "  inflating: /home/ad/barrouz/zacharie/TIMESERIES_PROJECT/THEIA_SNOW/S2/PYR/30TXN/SENTINEL2A_20161008-105022-458_L2B-SNOW_T30TXN_D_V1-0/SENTINEL2A_20161008-105022-458_L2B-SNOW_T30TXN_D_V1-0_SNW_R2.prj  \n",
      "  inflating: /home/ad/barrouz/zacharie/TIMESERIES_PROJECT/THEIA_SNOW/S2/PYR/30TXN/SENTINEL2A_20161008-105022-458_L2B-SNOW_T30TXN_D_V1-0/SENTINEL2A_20161008-105022-458_L2B-SNOW_T30TXN_D_V1-0_SNW_R2.shp  \n",
      "SENTINEL2A_20161011-110223-381_L2B-SNOW_T30TXN\n"
     ]
    },
    {
     "ename": "KeyboardInterrupt",
     "evalue": "",
     "output_type": "error",
     "traceback": [
      "\u001b[0;31m---------------------------------------------------------------------------\u001b[0m",
      "\u001b[0;31mKeyboardInterrupt\u001b[0m                         Traceback (most recent call last)",
      "Cell \u001b[0;32mIn[9], line 58\u001b[0m\n\u001b[1;32m     56\u001b[0m \u001b[38;5;28;01mif\u001b[39;00m product_name[:\u001b[38;5;241m-\u001b[39m\u001b[38;5;241m7\u001b[39m] \u001b[38;5;129;01mnot\u001b[39;00m \u001b[38;5;129;01min\u001b[39;00m check:\n\u001b[1;32m     57\u001b[0m     \u001b[38;5;28mprint\u001b[39m(product_name[:\u001b[38;5;241m-\u001b[39m\u001b[38;5;241m7\u001b[39m])\n\u001b[0;32m---> 58\u001b[0m     \u001b[43ms3\u001b[49m\u001b[38;5;241;43m.\u001b[39;49m\u001b[43mget\u001b[49m\u001b[43m(\u001b[49m\u001b[43mproduct\u001b[49m\u001b[43m,\u001b[49m\u001b[43m \u001b[49m\u001b[43mtmp_path\u001b[49m\u001b[43m,\u001b[49m\u001b[43m \u001b[49m\u001b[43mrecursive\u001b[49m\u001b[38;5;241;43m=\u001b[39;49m\u001b[38;5;28;43;01mTrue\u001b[39;49;00m\u001b[43m)\u001b[49m\n\u001b[1;32m     59\u001b[0m     os\u001b[38;5;241m.\u001b[39msystem(\u001b[38;5;124mf\u001b[39m\u001b[38;5;124m\"\u001b[39m\u001b[38;5;124munzip \u001b[39m\u001b[38;5;132;01m{\u001b[39;00mtmp_path\u001b[38;5;132;01m}\u001b[39;00m\u001b[38;5;124m/\u001b[39m\u001b[38;5;132;01m{\u001b[39;00mzip_product\u001b[38;5;132;01m}\u001b[39;00m\u001b[38;5;124m -d \u001b[39m\u001b[38;5;132;01m{\u001b[39;00mout_path\u001b[38;5;132;01m}\u001b[39;00m\u001b[38;5;124m\"\u001b[39m)\n\u001b[1;32m     60\u001b[0m     os\u001b[38;5;241m.\u001b[39msystem(\u001b[38;5;124mf\u001b[39m\u001b[38;5;124m\"\u001b[39m\u001b[38;5;124mrm \u001b[39m\u001b[38;5;132;01m{\u001b[39;00mtmp_path\u001b[38;5;132;01m}\u001b[39;00m\u001b[38;5;124m/\u001b[39m\u001b[38;5;132;01m{\u001b[39;00mzip_product\u001b[38;5;132;01m}\u001b[39;00m\u001b[38;5;124m\"\u001b[39m)\n",
      "File \u001b[0;32m/softs/rh8/conda-envs/s3-env/lib/python3.10/site-packages/fsspec/asyn.py:118\u001b[0m, in \u001b[0;36msync_wrapper.<locals>.wrapper\u001b[0;34m(*args, **kwargs)\u001b[0m\n\u001b[1;32m    115\u001b[0m \u001b[38;5;129m@functools\u001b[39m\u001b[38;5;241m.\u001b[39mwraps(func)\n\u001b[1;32m    116\u001b[0m \u001b[38;5;28;01mdef\u001b[39;00m \u001b[38;5;21mwrapper\u001b[39m(\u001b[38;5;241m*\u001b[39margs, \u001b[38;5;241m*\u001b[39m\u001b[38;5;241m*\u001b[39mkwargs):\n\u001b[1;32m    117\u001b[0m     \u001b[38;5;28mself\u001b[39m \u001b[38;5;241m=\u001b[39m obj \u001b[38;5;129;01mor\u001b[39;00m args[\u001b[38;5;241m0\u001b[39m]\n\u001b[0;32m--> 118\u001b[0m     \u001b[38;5;28;01mreturn\u001b[39;00m \u001b[43msync\u001b[49m\u001b[43m(\u001b[49m\u001b[38;5;28;43mself\u001b[39;49m\u001b[38;5;241;43m.\u001b[39;49m\u001b[43mloop\u001b[49m\u001b[43m,\u001b[49m\u001b[43m \u001b[49m\u001b[43mfunc\u001b[49m\u001b[43m,\u001b[49m\u001b[43m \u001b[49m\u001b[38;5;241;43m*\u001b[39;49m\u001b[43margs\u001b[49m\u001b[43m,\u001b[49m\u001b[43m \u001b[49m\u001b[38;5;241;43m*\u001b[39;49m\u001b[38;5;241;43m*\u001b[39;49m\u001b[43mkwargs\u001b[49m\u001b[43m)\u001b[49m\n",
      "File \u001b[0;32m/softs/rh8/conda-envs/s3-env/lib/python3.10/site-packages/fsspec/asyn.py:91\u001b[0m, in \u001b[0;36msync\u001b[0;34m(loop, func, timeout, *args, **kwargs)\u001b[0m\n\u001b[1;32m     88\u001b[0m asyncio\u001b[38;5;241m.\u001b[39mrun_coroutine_threadsafe(_runner(event, coro, result, timeout), loop)\n\u001b[1;32m     89\u001b[0m \u001b[38;5;28;01mwhile\u001b[39;00m \u001b[38;5;28;01mTrue\u001b[39;00m:\n\u001b[1;32m     90\u001b[0m     \u001b[38;5;66;03m# this loops allows thread to get interrupted\u001b[39;00m\n\u001b[0;32m---> 91\u001b[0m     \u001b[38;5;28;01mif\u001b[39;00m \u001b[43mevent\u001b[49m\u001b[38;5;241;43m.\u001b[39;49m\u001b[43mwait\u001b[49m\u001b[43m(\u001b[49m\u001b[38;5;241;43m1\u001b[39;49m\u001b[43m)\u001b[49m:\n\u001b[1;32m     92\u001b[0m         \u001b[38;5;28;01mbreak\u001b[39;00m\n\u001b[1;32m     93\u001b[0m     \u001b[38;5;28;01mif\u001b[39;00m timeout \u001b[38;5;129;01mis\u001b[39;00m \u001b[38;5;129;01mnot\u001b[39;00m \u001b[38;5;28;01mNone\u001b[39;00m:\n",
      "File \u001b[0;32m/softs/rh8/conda-envs/s3-env/lib/python3.10/threading.py:607\u001b[0m, in \u001b[0;36mEvent.wait\u001b[0;34m(self, timeout)\u001b[0m\n\u001b[1;32m    605\u001b[0m signaled \u001b[38;5;241m=\u001b[39m \u001b[38;5;28mself\u001b[39m\u001b[38;5;241m.\u001b[39m_flag\n\u001b[1;32m    606\u001b[0m \u001b[38;5;28;01mif\u001b[39;00m \u001b[38;5;129;01mnot\u001b[39;00m signaled:\n\u001b[0;32m--> 607\u001b[0m     signaled \u001b[38;5;241m=\u001b[39m \u001b[38;5;28;43mself\u001b[39;49m\u001b[38;5;241;43m.\u001b[39;49m\u001b[43m_cond\u001b[49m\u001b[38;5;241;43m.\u001b[39;49m\u001b[43mwait\u001b[49m\u001b[43m(\u001b[49m\u001b[43mtimeout\u001b[49m\u001b[43m)\u001b[49m\n\u001b[1;32m    608\u001b[0m \u001b[38;5;28;01mreturn\u001b[39;00m signaled\n",
      "File \u001b[0;32m/softs/rh8/conda-envs/s3-env/lib/python3.10/threading.py:324\u001b[0m, in \u001b[0;36mCondition.wait\u001b[0;34m(self, timeout)\u001b[0m\n\u001b[1;32m    322\u001b[0m \u001b[38;5;28;01melse\u001b[39;00m:\n\u001b[1;32m    323\u001b[0m     \u001b[38;5;28;01mif\u001b[39;00m timeout \u001b[38;5;241m>\u001b[39m \u001b[38;5;241m0\u001b[39m:\n\u001b[0;32m--> 324\u001b[0m         gotit \u001b[38;5;241m=\u001b[39m \u001b[43mwaiter\u001b[49m\u001b[38;5;241;43m.\u001b[39;49m\u001b[43macquire\u001b[49m\u001b[43m(\u001b[49m\u001b[38;5;28;43;01mTrue\u001b[39;49;00m\u001b[43m,\u001b[49m\u001b[43m \u001b[49m\u001b[43mtimeout\u001b[49m\u001b[43m)\u001b[49m\n\u001b[1;32m    325\u001b[0m     \u001b[38;5;28;01melse\u001b[39;00m:\n\u001b[1;32m    326\u001b[0m         gotit \u001b[38;5;241m=\u001b[39m waiter\u001b[38;5;241m.\u001b[39macquire(\u001b[38;5;28;01mFalse\u001b[39;00m)\n",
      "\u001b[0;31mKeyboardInterrupt\u001b[0m: "
     ]
    }
   ],
   "source": [
    "ENDPOINT_URL=\"https://s3.datalake.cnes.fr\"\n",
    "credentials = assumerole.getCredentials(\"arn:aws:iam::732885638740:role/public-read-only-OT\", Duration=7200)\n",
    "s3 = s3fs.S3FileSystem(\n",
    "      client_kwargs={\n",
    "                      'aws_access_key_id': credentials['AWS_ACCESS_KEY_ID'],\n",
    "                      'aws_secret_access_key': credentials['AWS_SECRET_ACCESS_KEY'],\n",
    "                      'aws_session_token': credentials['AWS_SESSION_TOKEN'],\n",
    "         'endpoint_url': 'https://s3.datalake.cnes.fr'\n",
    "      }\n",
    "   )\n",
    "def mkdir_p(dos):\n",
    "    try:\n",
    "        os.makedirs(dos)\n",
    "    except OSError as exc:  # Python >2.5\n",
    "        if exc.errno == errno.EEXIST and os.path.isdir(dos):\n",
    "            pass\n",
    "        else:\n",
    "            raise\n",
    "            \n",
    "S2_tiles={\n",
    "    \"PYR\":\n",
    "    {\n",
    "        \"30TXN\":{'EPSG':'32630','MINX':600000,'MINY':4690200,'MAXX':709800,'MAXY':4800000},\n",
    "        '30TYN':{'EPSG':'32630','MINX':699960,'MINY':4690200,'MAXX':809760,'MAXY':4800000},\n",
    "        '31TCH':{'EPSG':'32631','MINX':300000,'MINY':4690200,'MAXX':409800,'MAXY':4800000},\n",
    "        '31TDH':{'EPSG':'32631','MINX':399960,'MINY':4690200,'MAXX':509760,'MAXY':4800000}\n",
    "    },\n",
    "    \"ALP\":\n",
    "    {\n",
    "        \"31TGJ\":{'EPSG':'32631','MINX':699960,'MINY':4790220,'MAXX':809760,'MAXY':4900020},\n",
    "        '31TGK':{'EPSG':'32631','MINX':699960,'MINY':4890240,'MAXX':809760,'MAXY':5000040},\n",
    "        '31TGL':{'EPSG':'32631','MINX':699960,'MINY':4990200,'MAXX':809760,'MAXY':5100000},\n",
    "        '31TGM':{'EPSG':'32631','MINX':699960,'MINY':5090220,'MAXX':809760,'MAXY':5200020},\n",
    "        \"32TLP\":{'EPSG':'32632','MINX':300000,'MINY':4790220,'MAXX':409800,'MAXY':4900020},\n",
    "        '32TLQ':{'EPSG':'32632','MINX':300000,'MINY':4890240,'MAXX':409800,'MAXY':5000040},\n",
    "        '32TLR':{'EPSG':'32632','MINX':300000,'MINY':4990200,'MAXX':409800,'MAXY':5100000},\n",
    "        '32TLS':{'EPSG':'32632','MINX':300000,'MINY':5090220,'MAXX':409800,'MAXY':5200020}\n",
    "    }\n",
    "}\n",
    "tmp_path = \"/work/scratch/data/barrouz\"\n",
    "            \n",
    "\n",
    "for mtn in S2_tiles:\n",
    "    for tile in S2_tiles[mtn]:\n",
    "        out_path = f\"/home/ad/barrouz/zacharie/TIMESERIES_PROJECT/THEIA_SNOW/S2/{mtn}/{tile}\"\n",
    "        mkdir_p(out_path)\n",
    "        check = os.listdir(out_path)\n",
    "        check = [c[:-7] for c in check]\n",
    "        print(check)\n",
    "        for year in range(2015,2018):\n",
    "            list_products = s3.glob(f\"muscate/Snow/{year}/**/SENTINEL*{tile}*/*zip\")\n",
    "            for product in list_products:\n",
    "                zip_product = os.path.basename(product)\n",
    "                product_name = os.path.splitext(zip_product)[0]\n",
    "                \n",
    "                if product_name[:-7] not in check:\n",
    "                    print(product_name[:-7])\n",
    "                    s3.get(product, tmp_path, recursive=True)\n",
    "                    os.system(f\"unzip {tmp_path}/{zip_product} -d {out_path}\")\n",
    "                    os.system(f\"rm {tmp_path}/{zip_product}\")\n",
    "            os.system(f\"rm -rf {os.path.join(out_path,f'*_{year}*','MASKS')}\")\n",
    "            os.system(f\"rm -rf {os.path.join(out_path,f'*_{year}*','DATA')}\")\n",
    "            os.system(f\"rm -rf {os.path.join(out_path,f'*_{year}*','*.shp')}\")\n",
    "            os.system(f\"rm -rf {os.path.join(out_path,f'*_{year}*','*.shx')}\")\n",
    "            os.system(f\"rm -rf {os.path.join(out_path,f'*_{year}*','*.prj')}\")\n",
    "            os.system(f\"rm -rf {os.path.join(out_path,f'*_{year}*','*.dbf')}\")\n",
    "            os.system(f\"rm -rf {os.path.join(out_path,f'*_{year}*','*.jpg')}\")\n",
    "            os.system(f\"rm -rf {os.path.join(out_path,f'*_{year}*','*.xml')}\")\n",
    "        \n",
    "\n",
    "\n",
    "          \n"
   ]
  },
  {
   "cell_type": "code",
   "execution_count": null,
   "id": "7fff3f05-f94b-4c62-9e6a-2995da277613",
   "metadata": {},
   "outputs": [],
   "source": []
  }
 ],
 "metadata": {
  "kernelspec": {
   "display_name": "s3-env",
   "language": "python",
   "name": "s3-env"
  },
  "language_info": {
   "codemirror_mode": {
    "name": "ipython",
    "version": 3
   },
   "file_extension": ".py",
   "mimetype": "text/x-python",
   "name": "python",
   "nbconvert_exporter": "python",
   "pygments_lexer": "ipython3",
   "version": "3.10.9"
  }
 },
 "nbformat": 4,
 "nbformat_minor": 5
}
